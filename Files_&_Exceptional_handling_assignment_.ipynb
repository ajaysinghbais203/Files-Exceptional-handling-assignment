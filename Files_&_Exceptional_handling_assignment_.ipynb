{
  "nbformat": 4,
  "nbformat_minor": 0,
  "metadata": {
    "colab": {
      "provenance": []
    },
    "kernelspec": {
      "name": "python3",
      "display_name": "Python 3"
    },
    "language_info": {
      "name": "python"
    }
  },
  "cells": [
    {
      "cell_type": "markdown",
      "source": [
        "**Files & Exceptional handling assignment**\n"
      ],
      "metadata": {
        "id": "wUtm6076-XKZ"
      }
    },
    {
      "cell_type": "markdown",
      "source": [
        "1. What is the difference between interpreted and compiled languages?\n",
        "- Interpreted languages (like Python) execute code line-by-line using an interpreter. This allows for easier debugging and platform independence but can be slower. Compiled languages (like C or C++) are translated into machine code before execution. This makes them faster and more efficient but less flexible during development.\n",
        "\n",
        "2. What is exception handling in Python?\n",
        "- Exception handling is a mechanism that allows a program to deal with unexpected errors during execution. Instead of crashing, Python lets you catch and handle these errors using try, except, else, and finally blocks, ensuring the program continues running smoothly.\n",
        "\n",
        "3. What is the purpose of the finally block in exception handling?\n",
        "- The finally block is used to define cleanup actions that must be executed under all circumstances—whether an exception was raised or not. It's commonly used to close files, release resources, or reset states.\n",
        "\n",
        "4. What is logging in Python?\n",
        "- Logging is a way to track events that happen when software runs. Python’s logging module allows developers to record messages at different severity levels (like debug, info, warning, error, and critical), which helps in diagnosing problems and understanding program flow.\n",
        "\n",
        "5. What is the significance of the del method in Python?\n",
        "- The del method is a special method called a destructor. It is automatically invoked when an object is about to be destroyed, allowing you to perform cleanup tasks. However, relying on it is discouraged because the timing of its execution is not guaranteed.\n",
        "\n",
        "6. What is the difference between import and from ... import in Python?\n",
        "- import module: Imports the entire module. We access functions with module.function(). from module import function: Imports specific functions or classes, allowing direct use without the module prefix.\n",
        "\n",
        "7. How can you handle multiple exceptions in Python? - You can catch multiple exceptions using multiple except blocks or by grouping them in a tuple:\n",
        "try:\n",
        "except (TypeError, ValueError) as e: print(\"Caught an exception:\", e)\n",
        "\n",
        "8. What is the purpose of the with statement when handling files in Python?\n",
        "- The with statement simplifies file handling by automatically managing file opening and closing. It ensures that the file is properly closed even if an error occurs during processing:\n",
        "with open('file.txt', 'r') as f: data = f.read()\n",
        "\n",
        "9. What is the difference between multithreading and multiprocessing?\n",
        "- Multithreading: Multiple threads run in the same process and share memory. Best for I/O-bound tasks. Multiprocessing: Multiple processes run independently with separate memory. Ideal for CPU-bound tasks.\n",
        "\n",
        "10. What are the advantages of using logging in a program?\n",
        "- Helps in debugging and monitoring\n",
        " - Records runtime events\n",
        " - Supports different severity levels\n",
        " - Can log to files, consoles, or remote servers\n",
        " - More flexible and powerful than print()\n",
        "\n",
        "11. What is memory management in Python?\n",
        "- Python handles memory automatically using reference counting and a garbage collector. It allocates memory for new objects and reclaims it when objects are no longer in use, helping prevent memory leaks.\n",
        "\n",
        "12. What are the basic steps involved in exception handling in Python?\n",
        "- Following are the basic steps involved in exception handeling: try: Wrap code that might raise an error except: Handle specific exceptions else: Run code if no exception occurs finally: Always run cleanup code\n",
        "\n",
        "13. Why is memory management important in Python?\n",
        "- Efficient memory management ensures that your program uses system resources wisely, avoids memory leaks, and maintains performance, especially in long-running or data-intensive applications.\n",
        "\n",
        "14. What is the role of try and except in exception handling?\n",
        "- Beow are the role of try and except in exception handling: try: Contains code that might raise an exception except: Catches and handles the exception, preventing the program from crashing\n",
        "\n",
        "15. How does Python's garbage collection system work?\n",
        "- Python uses reference counting to track object usage. When an object’s reference count drops to zero, it’s deleted. It also uses a cyclic garbage collector to detect and clean up reference cycles.\n",
        "\n",
        "16. What is the purpose of the else block in exception handling?\n",
        "- The else block runs only if the try block doesn’t raise an exception. It’s useful for code that should only execute when no errors occur.\n",
        "\n",
        "17. What are the common logging levels in Python?\n",
        "- DEBUG: Detailed information for diagnosing problems INFO: General events confirming things are working WARNING: Something unexpected, but the program still works ERROR: A serious problem that prevents part of the program from working CRITICAL: A severe error causing the program to stop\n",
        "\n",
        "18. What is the difference between os.fork() and multiprocessing in Python?\n",
        "- os.fork(): Low-level, Unix-only method to create a child process. multiprocessing: High-level, cross-platform module that simplifies process creation and communication.\n",
        "\n",
        "19. What is the importance of closing a file in Python?\n",
        "- Closing a file ensures that all data is written to disk and system resources are released. Failing to close files can lead to data corruption or memory leaks.\n",
        "\n",
        "20. What is the difference between file.read() and file.readline() in Python?\n",
        "- read(): Reads the entire file content as a single string readline(): Reads one line at a time, useful for large files\n",
        "\n",
        "21. What is the logging module in Python used for?\n",
        "- The logging module provides a flexible framework for emitting log messages from Python programs. It helps track events, errors, and system behavior during execution.\n",
        "\n",
        "22. What is the os module in Python used for in file handling?\n",
        "- The os module allows interaction with the operating system. In file handling, it helps with tasks like checking file existence, creating directories, renaming, and deleting files.\n",
        "\n",
        "23. What are the challenges associated with memory management in Python?\n",
        "- Detecting and cleaning circular references. Managing memory in large-scale applications. Avoiding memory leaks due to lingering references. Balancing performance with memory usage.\n",
        "\n",
        "24. How do you raise an exception manually in Python?\n",
        "- We can raise exceptions using the raise keyword to signal an error intentionally: raise ValueError(\"Invalid input provided\")\n",
        "\n",
        "25. Why is it important to use multithreading in certain applications?\n",
        "- Multithreading is useful in I/O-bound applications like web servers or file operations. It allows multiple tasks to run concurrently, improving responsiveness and performance."
      ],
      "metadata": {
        "id": "-6fpcAi--nmW"
      }
    },
    {
      "cell_type": "code",
      "source": [
        "#1) How can you open a file for writing in Python and write a string to it?\n",
        "with open(\"example.txt\", \"w\") as file:\n",
        "    file.write(\"Hello, world!\")"
      ],
      "metadata": {
        "id": "yOXFxRQIF-cN"
      },
      "execution_count": 1,
      "outputs": []
    },
    {
      "cell_type": "code",
      "source": [
        "#2) Write a Python program to read the contents of a file and print each line.\n",
        "# First, create the file and write some content to it\n",
        "with open(\"practfile.txt\", \"w\") as file:\n",
        "    file.write(\"This is the first line.\\n\")\n",
        "    file.write(\"This is the second line.\\n\")\n",
        "    file.write(\"And this is the third line.\\n\")\n",
        "\n",
        "# Now, read the contents of the file and print each line\n",
        "with open(\"practfile.txt\", \"r\") as file:\n",
        "    for line in file:\n",
        "        print(line.strip())"
      ],
      "metadata": {
        "colab": {
          "base_uri": "https://localhost:8080/"
        },
        "id": "yb4C8UaiF-a1",
        "outputId": "f8a53f6e-5a5c-46ae-a303-4f429e6bcebb"
      },
      "execution_count": 3,
      "outputs": [
        {
          "output_type": "stream",
          "name": "stdout",
          "text": [
            "This is the first line.\n",
            "This is the second line.\n",
            "And this is the third line.\n"
          ]
        }
      ]
    },
    {
      "cell_type": "code",
      "source": [
        "#3) How would you handle a case where the file doesn't exist while trying to open it for reading.\n",
        "filename = \"nonexistent_file.txt\"\n",
        "\n",
        "try:\n",
        "    with open(filename, \"r\") as file:\n",
        "        content = file.read()\n",
        "        print(content)\n",
        "except FileNotFoundError:\n",
        "    print(f\"Error: The file '{filename}' does not exist.\")"
      ],
      "metadata": {
        "colab": {
          "base_uri": "https://localhost:8080/"
        },
        "id": "9StdZ2uYF-Vz",
        "outputId": "a4e7ae5c-9339-4dd6-bc6a-e5d9422b89e2"
      },
      "execution_count": 4,
      "outputs": [
        {
          "output_type": "stream",
          "name": "stdout",
          "text": [
            "Error: The file 'nonexistent_file.txt' does not exist.\n"
          ]
        }
      ]
    },
    {
      "cell_type": "code",
      "source": [
        "#4)Write a Python script that reads from one file and writes its content to another file\n",
        "# Define source and destination file paths\n",
        "source_file = \"practfile.txt\"\n",
        "destination_file = \"example.txt\"\n",
        "\n",
        "try:\n",
        "    # Open the source file for reading\n",
        "    with open(source_file, \"r\") as src:\n",
        "        content = src.read()\n",
        "\n",
        "    # Open the destination file for writing\n",
        "    with open(destination_file, \"w\") as dest:\n",
        "        dest.write(content)\n",
        "\n",
        "    print(f\"Content successfully copied from '{source_file}' to '{destination_file}'.\")\n",
        "\n",
        "except FileNotFoundError:\n",
        "    print(f\"Error: The file '{source_file}' does not exist.\")\n",
        "except IOError as e:\n",
        "    print(f\"An I/O error occurred: {e}\")"
      ],
      "metadata": {
        "colab": {
          "base_uri": "https://localhost:8080/"
        },
        "id": "O3RpnwuDF-Un",
        "outputId": "5d3d3f91-27d8-43f6-975e-2dba82d60b9e"
      },
      "execution_count": 5,
      "outputs": [
        {
          "output_type": "stream",
          "name": "stdout",
          "text": [
            "Content successfully copied from 'practfile.txt' to 'example.txt'.\n"
          ]
        }
      ]
    },
    {
      "cell_type": "code",
      "source": [
        "#5) How would you catch and handle division by zero error in Python?\n",
        "try:\n",
        "    numerator = 10\n",
        "    denominator = 0\n",
        "    result = numerator / denominator\n",
        "    print(f\"Result: {result}\")\n",
        "except ZeroDivisionError:\n",
        "    print(\"Error: Hey, we cannot divide by zero.\")"
      ],
      "metadata": {
        "colab": {
          "base_uri": "https://localhost:8080/"
        },
        "id": "uy08H3stF-P2",
        "outputId": "451728a3-83da-424e-a9dc-0241f21e5950"
      },
      "execution_count": 6,
      "outputs": [
        {
          "output_type": "stream",
          "name": "stdout",
          "text": [
            "Error: Hey, we cannot divide by zero.\n"
          ]
        }
      ]
    },
    {
      "cell_type": "code",
      "source": [
        "#6) Write a Python program that logs an error message to a log file when a division by zero exception occurs.\n",
        "import logging\n",
        "\n",
        "# Configure logging to write to a file\n",
        "logging.basicConfig(\n",
        "    filename=\"error_log.txt\",\n",
        "    level=logging.ERROR,\n",
        "    format=\"%(asctime)s - %(levelname)s - %(message)s\"\n",
        ")\n",
        "\n",
        "def divide(a, b):\n",
        "    try:\n",
        "        result = a / b\n",
        "        print(f\"Result: {result}\")\n",
        "    except ZeroDivisionError as e:\n",
        "        logging.error(\"Attempted to divide by zero: %s\", e)\n",
        "        print(\"Error: Cannot divide by zero.\")\n",
        "\n",
        "# Example usage\n",
        "divide(10, 0)"
      ],
      "metadata": {
        "colab": {
          "base_uri": "https://localhost:8080/"
        },
        "id": "7XEZBmisF-Oo",
        "outputId": "19cf16a8-0d92-4d5c-e09d-f23d02e9f216"
      },
      "execution_count": 7,
      "outputs": [
        {
          "output_type": "stream",
          "name": "stderr",
          "text": [
            "ERROR:root:Attempted to divide by zero: division by zero\n"
          ]
        },
        {
          "output_type": "stream",
          "name": "stdout",
          "text": [
            "Error: Cannot divide by zero.\n"
          ]
        }
      ]
    },
    {
      "cell_type": "code",
      "source": [
        "#7) How do you log information at different levels (INFO, ERROR, WARNING) in Python using the logging module?\n",
        "import logging\n",
        "\n",
        "# Configure logging\n",
        "logging.basicConfig(\n",
        "    filename=\"app.log\",\n",
        "    level=logging.DEBUG,  # Capture all levels from DEBUG and above\n",
        "    format=\"%(asctime)s - %(levelname)s - %(message)s\"\n",
        ")\n",
        "\n",
        "# Log messages at different levels\n",
        "logging.debug(\"This is a debug message.\")\n",
        "logging.info(\"This is an info message.\")\n",
        "logging.warning(\"This is a warning message.\")\n",
        "logging.error(\"This is an error message.\")\n",
        "logging.critical(\"This is a critical message.\")"
      ],
      "metadata": {
        "colab": {
          "base_uri": "https://localhost:8080/"
        },
        "id": "qBj1KVh0F-KL",
        "outputId": "5adb7cc2-6cba-410b-e4c1-a95fb03aa2ea"
      },
      "execution_count": 8,
      "outputs": [
        {
          "output_type": "stream",
          "name": "stderr",
          "text": [
            "WARNING:root:This is a warning message.\n",
            "ERROR:root:This is an error message.\n",
            "CRITICAL:root:This is a critical message.\n"
          ]
        }
      ]
    },
    {
      "cell_type": "code",
      "source": [
        "#8)  Write a program to handle a file opening error using exception handling.\n",
        "filename = \"nonexistent_file.txt\"\n",
        "\n",
        "try:\n",
        "    with open(filename, \"r\") as file: #It'll read the file\n",
        "        content = file.read()\n",
        "        print(content)\n",
        "except FileNotFoundError:\n",
        "    print(f\"Error: The file '{filename}' was not found.\")\n",
        "except PermissionError:\n",
        "    print(f\"Error: Permission denied to open the file '{filename}'.\")\n",
        "except Exception as e:\n",
        "    print(f\"An unexpected error occurred: {e}\")"
      ],
      "metadata": {
        "colab": {
          "base_uri": "https://localhost:8080/"
        },
        "id": "eIfVw4TzF-I5",
        "outputId": "7416b0f5-d2db-4b2c-e923-d5176b9021d0"
      },
      "execution_count": 9,
      "outputs": [
        {
          "output_type": "stream",
          "name": "stdout",
          "text": [
            "Error: The file 'nonexistent_file.txt' was not found.\n"
          ]
        }
      ]
    },
    {
      "cell_type": "code",
      "source": [
        "#9) How can you read a file line by line and store its content in a list in Python?\n",
        "filename = \"practfile.txt\"\n",
        "\n",
        "try:\n",
        "    with open(filename, \"r\") as file:\n",
        "        lines = [line.strip() for line in file]\n",
        "    print(lines)\n",
        "except FileNotFoundError:\n",
        "    print(f\"Error: The file '{filename}' was not found.\")"
      ],
      "metadata": {
        "colab": {
          "base_uri": "https://localhost:8080/"
        },
        "id": "K-MPL2YxF-Ee",
        "outputId": "3141d88d-3ee3-4489-b845-1aba645f4afe"
      },
      "execution_count": 10,
      "outputs": [
        {
          "output_type": "stream",
          "name": "stdout",
          "text": [
            "['This is the first line.', 'This is the second line.', 'And this is the third line.']\n"
          ]
        }
      ]
    },
    {
      "cell_type": "code",
      "source": [
        "#10)  How can you append data to an existing file in Python?\n",
        "filename = \"example.txt\"\n",
        "data_to_append = \"\\nThis is a new line of text.\"\n",
        "\n",
        "try:\n",
        "    with open(filename, \"a\") as file:\n",
        "        file.write(data_to_append + \"\\n\")\n",
        "    print(\"Data appended successfully.\")\n",
        "except Exception as e:\n",
        "    print(f\"An error occurred: {e}\")"
      ],
      "metadata": {
        "colab": {
          "base_uri": "https://localhost:8080/"
        },
        "id": "q5KLaBlPF-DU",
        "outputId": "ebcc34c7-e152-4152-bfc0-8e0f399d429e"
      },
      "execution_count": 11,
      "outputs": [
        {
          "output_type": "stream",
          "name": "stdout",
          "text": [
            "Data appended successfully.\n"
          ]
        }
      ]
    },
    {
      "cell_type": "code",
      "source": [
        "#11) Write a Python program that uses a try-except block to handle an error when attempting to access a dictionary key that doesn't exist.\n",
        "# Define a sample dictionary\n",
        "person = {\n",
        "    \"name\": \"Ajay Singh\",\n",
        "    \"age\": 29\n",
        "}\n",
        "\n",
        "# Attempt to access a non-existent key\n",
        "try:\n",
        "    print(\"Name:\", person[\"name\"])\n",
        "    print(\"Occupation:\", person[\"occupation\"])  # This key doesn't exist\n",
        "except KeyError as e:\n",
        "    print(f\"Error: The key '{e}' does not exist in the dictionary.\")"
      ],
      "metadata": {
        "colab": {
          "base_uri": "https://localhost:8080/"
        },
        "id": "KSO_7pbdF9_F",
        "outputId": "34e67760-3a7b-4306-9ec6-2e4ccf7d46bc"
      },
      "execution_count": 13,
      "outputs": [
        {
          "output_type": "stream",
          "name": "stdout",
          "text": [
            "Name: Ajay Singh\n",
            "Error: The key ''occupation'' does not exist in the dictionary.\n"
          ]
        }
      ]
    },
    {
      "cell_type": "code",
      "source": [
        "#12) Write a program that demonstrates using multiple except blocks to handle different types of exceptions.\n",
        "def exception_demo():\n",
        "    try:\n",
        "        # Trigger a ValueError\n",
        "        number = int(input(\"Enter a number: \"))\n",
        "\n",
        "        # Trigger a ZeroDivisionError\n",
        "        result = 10 / number\n",
        "\n",
        "        # Trigger a KeyError\n",
        "        sample_dict = {\"a\": 1, \"b\": 2}\n",
        "        print(sample_dict[\"c\"])\n",
        "\n",
        "    except ValueError:\n",
        "        print(\"You did not enter a valid integer.\")\n",
        "\n",
        "    except ZeroDivisionError:\n",
        "        print(\"Division by zero is not allowed.\")\n",
        "\n",
        "    except KeyError as e:\n",
        "        print(f\"KeyError: The key '{e}' does not exist in the dictionary.\")\n",
        "\n",
        "    except Exception as e:\n",
        "        print(f\"An unexpected error occurred: {e}\")\n",
        "\n",
        "# Run the function\n",
        "exception_demo()"
      ],
      "metadata": {
        "colab": {
          "base_uri": "https://localhost:8080/"
        },
        "id": "P02Te5rcF99p",
        "outputId": "32ef7f46-6965-49c3-dfea-19ed072c8b19"
      },
      "execution_count": 14,
      "outputs": [
        {
          "output_type": "stream",
          "name": "stdout",
          "text": [
            "Enter a number: 8\n",
            "KeyError: The key ''c'' does not exist in the dictionary.\n"
          ]
        }
      ]
    },
    {
      "cell_type": "code",
      "source": [
        "#13)  How would you check if a file exists before attempting to read it in Python?\n",
        "import os\n",
        "\n",
        "file_path = \"example.txt\"\n",
        "\n",
        "if os.path.exists(file_path):\n",
        "    with open(file_path, 'r') as file:\n",
        "        content = file.read()\n",
        "        print(content)\n",
        "else:\n",
        "    print(f\"File does not exist.\")"
      ],
      "metadata": {
        "colab": {
          "base_uri": "https://localhost:8080/"
        },
        "id": "jPC3Oi1rF95G",
        "outputId": "dd85bf0e-7b4f-4555-ab9e-adb219f27b54"
      },
      "execution_count": 15,
      "outputs": [
        {
          "output_type": "stream",
          "name": "stdout",
          "text": [
            "This is the first line.\n",
            "This is the second line.\n",
            "And this is the third line.\n",
            "\n",
            "This is a new line of text.\n",
            "\n"
          ]
        }
      ]
    },
    {
      "cell_type": "code",
      "source": [
        "#14) Write a program that uses the logging module to log both informational and error messages.\n",
        "import logging\n",
        "\n",
        "# Basic logging setup\n",
        "logging.basicConfig(level=logging.INFO)\n",
        "\n",
        "def divide(a, b):\n",
        "    try:\n",
        "        result = a / b\n",
        "        logging.info(f\"Result: {result}\")\n",
        "    except ZeroDivisionError:\n",
        "        logging.error(\"Cannot divide by zero.\")\n",
        "    except Exception as e:\n",
        "        logging.error(f\"Error: {e}\")\n",
        "\n",
        "# Test the function\n",
        "divide(10, 2)\n",
        "#divide(10, 0)\n",
        "#divide(\"10\", 2)"
      ],
      "metadata": {
        "id": "835q_h5TF93l"
      },
      "execution_count": 16,
      "outputs": []
    },
    {
      "cell_type": "code",
      "source": [
        "#15) Write a Python program that prints the content of a file and handles the case when the file is empty.\n",
        "def read_file(filename):\n",
        "    try:\n",
        "        with open(filename, 'r') as file:\n",
        "            content = file.read()\n",
        "            if content.strip() == \"\":\n",
        "                print(\"The file is empty.\")\n",
        "            else:\n",
        "                print(\"File content:\")\n",
        "                print(content)\n",
        "    except FileNotFoundError:\n",
        "        print(\"The file does not exist.\")\n",
        "    except Exception as e:\n",
        "        print(f\"An error occurred: {e}\")\n",
        "\n",
        "# Example usage\n",
        "read_file(\"example.txt\")"
      ],
      "metadata": {
        "colab": {
          "base_uri": "https://localhost:8080/"
        },
        "id": "9TJvpC8-F9zE",
        "outputId": "8be26e4f-cf05-4add-8350-65b5d7708ffd"
      },
      "execution_count": 17,
      "outputs": [
        {
          "output_type": "stream",
          "name": "stdout",
          "text": [
            "File content:\n",
            "This is the first line.\n",
            "This is the second line.\n",
            "And this is the third line.\n",
            "\n",
            "This is a new line of text.\n",
            "\n"
          ]
        }
      ]
    },
    {
      "cell_type": "code",
      "source": [
        "#16)  Demonstrate how to use memory profiling to check the memory usage of a small program.\n",
        "pip install memory-profiler\n",
        "from memory_profiler import profile\n",
        "\n",
        "@profile\n",
        "def create_large_list():\n",
        "    large_list = [i * 2 for i in range(100000)]\n",
        "    return sum(large_list)\n",
        "\n",
        "if __name__ == \"__main__\":\n",
        "    create_large_list()\n",
        "python -m memory_profiler your_script.py"
      ],
      "metadata": {
        "colab": {
          "base_uri": "https://localhost:8080/",
          "height": 109
        },
        "collapsed": true,
        "id": "MvUNTkZKF9x2",
        "outputId": "7ff25332-86d1-4e80-d55f-28539815eda7"
      },
      "execution_count": 18,
      "outputs": [
        {
          "output_type": "error",
          "ename": "SyntaxError",
          "evalue": "invalid syntax (ipython-input-18-2081540041.py, line 2)",
          "traceback": [
            "\u001b[0;36m  File \u001b[0;32m\"/tmp/ipython-input-18-2081540041.py\"\u001b[0;36m, line \u001b[0;32m2\u001b[0m\n\u001b[0;31m    pip install memory-profiler\u001b[0m\n\u001b[0m        ^\u001b[0m\n\u001b[0;31mSyntaxError\u001b[0m\u001b[0;31m:\u001b[0m invalid syntax\n"
          ]
        }
      ]
    },
    {
      "cell_type": "code",
      "source": [
        "#17) Write a Python program to create and write a list of numbers to a file, one number per line.\n",
        "# Define a list of numbers\n",
        "numbers = [1, 2, 3, 4, 5, 10, 20, 30]\n",
        "\n",
        "# Specify the output file name\n",
        "file_name = \"numbers.txt\"\n",
        "\n",
        "# Write each number to the file, one per line\n",
        "with open(file_name, 'w') as file:\n",
        "    for number in numbers:\n",
        "        file.write(f\"{number}\\n\")\n",
        "\n",
        "print(f\"Numbers have been written to {file_name}.\")"
      ],
      "metadata": {
        "colab": {
          "base_uri": "https://localhost:8080/"
        },
        "id": "Y2O2YGx2F9tN",
        "outputId": "14a8da83-dad9-474b-bb07-110664ac52d5"
      },
      "execution_count": 19,
      "outputs": [
        {
          "output_type": "stream",
          "name": "stdout",
          "text": [
            "Numbers have been written to numbers.txt.\n"
          ]
        }
      ]
    },
    {
      "cell_type": "code",
      "source": [
        "#18) How would you implement a basic logging setup that logs to a file with rotation after 1MB?\n",
        "import logging\n",
        "from logging.handlers import RotatingFileHandler\n",
        "\n",
        "# Set up a rotating file handler\n",
        "log_file = \"app.log\"\n",
        "handler = RotatingFileHandler(log_file, maxBytes=1_000_000, backupCount=3)\n",
        "\n",
        "# Configure logging\n",
        "logging.basicConfig(\n",
        "    level=logging.INFO,\n",
        "    format=\"%(asctime)s - %(levelname)s - %(message)s\",\n",
        "    handlers=[handler]\n",
        ")\n",
        "\n",
        "# Example usage\n",
        "for i in range(10000):\n",
        "    logging.info(f\"This is log message number {i}\")\n",
        ""
      ],
      "metadata": {
        "id": "ED9xpKZcF9r_"
      },
      "execution_count": 20,
      "outputs": []
    },
    {
      "cell_type": "code",
      "source": [
        "#19  Write a program that handles both IndexError and KeyError using a try-except block.\n",
        "def handle_errors():\n",
        "    my_list = [1, 2, 3]\n",
        "    my_dict = {\"a\": 10, \"b\": 20}\n",
        "\n",
        "    try:\n",
        "        # This will raise IndexError\n",
        "        print(my_list[2])\n",
        "\n",
        "        # This will raise KeyError\n",
        "        print(my_dict[\"h\"])\n",
        "\n",
        "    except IndexError:\n",
        "        print(\"IndexError: List index is out of range.\")\n",
        "\n",
        "    except KeyError:\n",
        "        print(\"KeyError: Key not found in dictionary.\")\n",
        "\n",
        "# Run the function\n",
        "handle_errors()"
      ],
      "metadata": {
        "colab": {
          "base_uri": "https://localhost:8080/"
        },
        "id": "DpDZzYmaF9mz",
        "outputId": "8fefc0b7-868b-49f8-d704-57387b8887b3"
      },
      "execution_count": 21,
      "outputs": [
        {
          "output_type": "stream",
          "name": "stdout",
          "text": [
            "3\n",
            "KeyError: Key not found in dictionary.\n"
          ]
        }
      ]
    },
    {
      "cell_type": "code",
      "source": [
        "#20)How would you open a file and read its contents using a context manager in Python.\n",
        "file_path = \"example.txt\"\n",
        "\n",
        "# Open and read the file using a context manager\n",
        "with open(file_path, 'r') as file:\n",
        "    content = file.read()\n",
        "    print(content)"
      ],
      "metadata": {
        "colab": {
          "base_uri": "https://localhost:8080/"
        },
        "id": "RatysCWKF9lo",
        "outputId": "cf14a6f4-4cfb-4e82-b09b-4ae7fe7873c1"
      },
      "execution_count": 22,
      "outputs": [
        {
          "output_type": "stream",
          "name": "stdout",
          "text": [
            "This is the first line.\n",
            "This is the second line.\n",
            "And this is the third line.\n",
            "\n",
            "This is a new line of text.\n",
            "\n"
          ]
        }
      ]
    },
    {
      "cell_type": "code",
      "source": [
        "#21)  Write a Python program that reads a file and prints the number of occurrences of a specific word.\n",
        "def count_word_occurrences(filename, target_word):\n",
        "    try:\n",
        "        with open(filename, 'r') as file:\n",
        "            content = file.read().lower()  # Convert to lowercase for case-insensitive matching\n",
        "            word_count = content.split().count(target_word.lower())\n",
        "            print(f\"The word '{target_word}' occurs {word_count} times in the file.\")\n",
        "    except FileNotFoundError:\n",
        "        print(\"The file does not exist.\")\n",
        "    except Exception as e:\n",
        "        print(f\"An error occurred: {e}\")\n",
        "\n",
        "# Example usage\n",
        "count_word_occurrences(\"example.txt\", \"new\")"
      ],
      "metadata": {
        "colab": {
          "base_uri": "https://localhost:8080/"
        },
        "id": "Oy79iz-FF9gi",
        "outputId": "60d47aae-3426-4dcf-c882-a07a0952e8ce"
      },
      "execution_count": 23,
      "outputs": [
        {
          "output_type": "stream",
          "name": "stdout",
          "text": [
            "The word 'new' occurs 1 times in the file.\n"
          ]
        }
      ]
    },
    {
      "cell_type": "code",
      "source": [
        "#22)  How can you check if a file is empty before attempting to read its contents.\n",
        "file_path = \"example.txt\"\n",
        "\n",
        "try:\n",
        "    with open(file_path, 'r') as file:\n",
        "        content = file.read()\n",
        "        if not content.strip():\n",
        "            print(\"The file is empty.\")\n",
        "        else:\n",
        "            print(content)\n",
        "except FileNotFoundError:\n",
        "    print(\"File not found.\")"
      ],
      "metadata": {
        "colab": {
          "base_uri": "https://localhost:8080/"
        },
        "id": "7jYJZoMHF9fc",
        "outputId": "78a7b025-0e66-41e8-838f-449f1f62847d"
      },
      "execution_count": 24,
      "outputs": [
        {
          "output_type": "stream",
          "name": "stdout",
          "text": [
            "This is the first line.\n",
            "This is the second line.\n",
            "And this is the third line.\n",
            "\n",
            "This is a new line of text.\n",
            "\n"
          ]
        }
      ]
    },
    {
      "cell_type": "code",
      "source": [
        "#23)  Write a Python program that writes to a log file when an error occurs during file handling.\n",
        "import logging\n",
        "\n",
        "# Set up logging to a file\n",
        "logging.basicConfig(\n",
        "    filename='error_log.txt',\n",
        "    level=logging.ERROR,\n",
        "    format='%(asctime)s - %(levelname)s - %(message)s'\n",
        ")\n",
        "\n",
        "def read_file(filename):\n",
        "    try:\n",
        "        with open(filename, 'r') as file:\n",
        "            content = file.read()\n",
        "            print(content)\n",
        "    except Exception as e:\n",
        "        logging.error(f\"Error reading file '{filename}': {e}\")\n",
        "        print(\"An error occurred. Check the log file for details.\")\n",
        "\n",
        "# Example usage\n",
        "read_file(\"practfile.txt\")"
      ],
      "metadata": {
        "colab": {
          "base_uri": "https://localhost:8080/"
        },
        "id": "HFgNOSO2UDqF",
        "outputId": "0610094d-2a59-4c02-f7aa-b8b91fb94930"
      },
      "execution_count": 25,
      "outputs": [
        {
          "output_type": "stream",
          "name": "stdout",
          "text": [
            "This is the first line.\n",
            "This is the second line.\n",
            "And this is the third line.\n",
            "\n"
          ]
        }
      ]
    }
  ]
}